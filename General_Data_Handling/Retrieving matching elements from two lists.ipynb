{
 "cells": [
  {
   "cell_type": "markdown",
   "id": "ab096320",
   "metadata": {},
   "source": [
    "# Quick DS Coding Tips\n",
    "> ## *General Python*"
   ]
  },
  {
   "cell_type": "markdown",
   "id": "cc08d70a",
   "metadata": {},
   "source": [
    "### Retrieving matching elements from two lists\n",
    "> **`set([iterable]).intersection(others)`**"
   ]
  },
  {
   "cell_type": "markdown",
   "id": "eacc746c",
   "metadata": {},
   "source": [
    "Create two lists of integers, containing some matching values. I've added some duplicates so we can see how these are handled as well."
   ]
  },
  {
   "cell_type": "code",
   "execution_count": 1,
   "id": "7fb0df1e",
   "metadata": {},
   "outputs": [],
   "source": [
    "list1 = [1, 2, 3, 3, 5]\n",
    "list2 = [1, 3, 5, 5, 7]"
   ]
  },
  {
   "cell_type": "markdown",
   "id": "13787455",
   "metadata": {},
   "source": [
    "**Desired output**: A list containing individual values that are contained within both lists.\n",
    "> **`[1, 3, 5]`**"
   ]
  },
  {
   "cell_type": "markdown",
   "id": "ce425077",
   "metadata": {},
   "source": [
    "---\n",
    "One common approach is to:\n",
    "* Create an empty list to hold matching values.\n",
    "* Loop/Iterate through one list.\n",
    "* Add a condition to check if the current value is in the second list.\n",
    "* If the condition is true, add it to the list of matches."
   ]
  },
  {
   "cell_type": "code",
   "execution_count": 2,
   "id": "268b63d4",
   "metadata": {
    "scrolled": true
   },
   "outputs": [
    {
     "data": {
      "text/plain": [
       "[1, 3, 3, 5]"
      ]
     },
     "execution_count": 2,
     "metadata": {},
     "output_type": "execute_result"
    }
   ],
   "source": [
    "matches = []\n",
    "\n",
    "for i in list1:\n",
    "    if i in list2:\n",
    "        matches.append(i)\n",
    "        \n",
    "matches"
   ]
  },
  {
   "cell_type": "markdown",
   "id": "040bf373",
   "metadata": {},
   "source": [
    "While this works, a duplicate `3` gets added to the list of matches. <br>\n",
    "\n",
    "Swapping the list iterated through with, the list values are check against, yeilds similar results."
   ]
  },
  {
   "cell_type": "code",
   "execution_count": 3,
   "id": "aad6f06d",
   "metadata": {
    "scrolled": true
   },
   "outputs": [
    {
     "data": {
      "text/plain": [
       "[1, 3, 5, 5]"
      ]
     },
     "execution_count": 3,
     "metadata": {},
     "output_type": "execute_result"
    }
   ],
   "source": [
    "matches = []\n",
    "\n",
    "for i in list2:\n",
    "    if i in list1:\n",
    "        matches.append(i)\n",
    "        \n",
    "matches"
   ]
  },
  {
   "cell_type": "markdown",
   "id": "f8934192",
   "metadata": {},
   "source": [
    "A common solution may be to add another condition:\n",
    "* *Create an empty list to hold matching values.*\n",
    "* *Loop/Iterate through one list.*\n",
    "* *Add a condition to check if the current value is in the second list.*\n",
    "* **Add a condition to check that the value isn't already in the list of matches**\n",
    "* *If **both** condition's are met, add it to the list of matches.*"
   ]
  },
  {
   "cell_type": "code",
   "execution_count": 4,
   "id": "2c25e0de",
   "metadata": {},
   "outputs": [
    {
     "data": {
      "text/plain": [
       "[1, 3, 5]"
      ]
     },
     "execution_count": 4,
     "metadata": {},
     "output_type": "execute_result"
    }
   ],
   "source": [
    "matches = []\n",
    "\n",
    "for i in list1:\n",
    "    if i in list2:\n",
    "        if i not in matches:\n",
    "            matches.append(i)\n",
    "        \n",
    "matches"
   ]
  },
  {
   "cell_type": "markdown",
   "id": "25f4c438",
   "metadata": {},
   "source": [
    "While this yeilds the desired output, the next solution is 40% faster and more readable.<br>\n",
    "\n",
    "---"
   ]
  },
  {
   "cell_type": "code",
   "execution_count": 5,
   "id": "42b1b45d",
   "metadata": {},
   "outputs": [
    {
     "data": {
      "text/plain": [
       "{1, 3, 5}"
      ]
     },
     "execution_count": 5,
     "metadata": {},
     "output_type": "execute_result"
    }
   ],
   "source": [
    "set(list1).intersection(list2)"
   ]
  },
  {
   "cell_type": "markdown",
   "id": "c22fa9c6",
   "metadata": {},
   "source": [
    "<h4>Built-ins Explained</h4>\n",
    "\n",
    "---\n",
    "> **set:** *an unordered collection of distinct hashable objects. (mutable)*\n",
    ">\n",
    "> **intersection:** *Return a new set with elements common to the set and all others.*\n",
    "\n",
    "<br>\n",
    "And swapping list order doesn't change the result:\n",
    "<br>\n",
    "\n",
    "*Since the desired output was a list, change the type to a list.*"
   ]
  },
  {
   "cell_type": "code",
   "execution_count": 6,
   "id": "26eba7f3",
   "metadata": {},
   "outputs": [
    {
     "data": {
      "text/plain": [
       "[1, 3, 5]"
      ]
     },
     "execution_count": 6,
     "metadata": {},
     "output_type": "execute_result"
    }
   ],
   "source": [
    "list(set(list2).intersection(list1))"
   ]
  },
  {
   "cell_type": "markdown",
   "id": "46818b6d",
   "metadata": {},
   "source": [
    "<br>\n",
    "\n",
    "---\n",
    "Jamaine D. Roseborough Jr.<br>\n",
    "[LinkedIn](https://www.linkedin.com/in/jamaine-roseborough-239b0616b/)"
   ]
  }
 ],
 "metadata": {
  "kernelspec": {
   "display_name": "Python 3 (ipykernel)",
   "language": "python",
   "name": "python3"
  },
  "language_info": {
   "codemirror_mode": {
    "name": "ipython",
    "version": 3
   },
   "file_extension": ".py",
   "mimetype": "text/x-python",
   "name": "python",
   "nbconvert_exporter": "python",
   "pygments_lexer": "ipython3",
   "version": "3.9.7"
  }
 },
 "nbformat": 4,
 "nbformat_minor": 5
}
