{
 "cells": [
  {
   "cell_type": "markdown",
   "id": "ab096320",
   "metadata": {},
   "source": [
    "# Quick DS Coding Tips\n",
    "> ## *Machine Learning*"
   ]
  },
  {
   "cell_type": "markdown",
   "id": "cc08d70a",
   "metadata": {},
   "source": [
    "### The Train Test Split\n",
    "> **`X_train, X_test, y_train, y_test = train_test_split(X, y, test_size=0.25)`**"
   ]
  },
  {
   "cell_type": "code",
   "execution_count": 2,
   "id": "15fcd755",
   "metadata": {},
   "outputs": [],
   "source": [
    "from sklearn.model_selection import train_test_split\n",
    "import numpy as np"
   ]
  },
  {
   "cell_type": "code",
   "execution_count": 8,
   "id": "b973fd51",
   "metadata": {},
   "outputs": [],
   "source": [
    "X = np.random.randint(0,25,size=(100,10))\n",
    "y = np.random.randint(0,2, size=(100,1))"
   ]
  },
  {
   "cell_type": "code",
   "execution_count": 9,
   "id": "8cd0a724",
   "metadata": {},
   "outputs": [],
   "source": [
    "X_train, X_test, y_train, y_test = train_test_split(X, y, test_size=0.25)"
   ]
  },
  {
   "cell_type": "markdown",
   "id": "b6703582",
   "metadata": {},
   "source": [
    "---\n",
    "\n",
    "\n",
    "## Explained\n",
    "---"
   ]
  },
  {
   "cell_type": "markdown",
   "id": "63b6a56b",
   "metadata": {},
   "source": [
    "***train_test_split***(X, y, test_size=0.25)\n",
    "\n",
    "---"
   ]
  },
  {
   "cell_type": "markdown",
   "id": "808527d4",
   "metadata": {},
   "source": [
    "train_test_split(***X***, ***y***, test_size=0.25)\n",
    "\n",
    "---"
   ]
  },
  {
   "cell_type": "markdown",
   "id": "6baeaa32",
   "metadata": {},
   "source": [
    "train_test_split(X, y, ***test_size=0.25***)\n",
    "\n",
    "---"
   ]
  },
  {
   "cell_type": "markdown",
   "id": "fa3deb99",
   "metadata": {},
   "source": [
    "***X_train***, X_test, ***y_train***, y_test\n",
    "\n",
    "---"
   ]
  },
  {
   "cell_type": "markdown",
   "id": "e960c342",
   "metadata": {},
   "source": [
    "X_train, ***X_test***, y_train, ***y_test***\n",
    "\n",
    "---"
   ]
  }
 ],
 "metadata": {
  "kernelspec": {
   "display_name": "Python 3 (ipykernel)",
   "language": "python",
   "name": "python3"
  },
  "language_info": {
   "codemirror_mode": {
    "name": "ipython",
    "version": 3
   },
   "file_extension": ".py",
   "mimetype": "text/x-python",
   "name": "python",
   "nbconvert_exporter": "python",
   "pygments_lexer": "ipython3",
   "version": "3.9.7"
  }
 },
 "nbformat": 4,
 "nbformat_minor": 5
}
